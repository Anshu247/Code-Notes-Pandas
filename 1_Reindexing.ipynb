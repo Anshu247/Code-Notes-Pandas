{
 "cells": [
  {
   "cell_type": "code",
   "execution_count": 1,
   "id": "2ba2a007",
   "metadata": {},
   "outputs": [],
   "source": [
    "import numpy as np\n",
    "import pandas as pd"
   ]
  },
  {
   "cell_type": "code",
   "execution_count": 2,
   "id": "105645ff",
   "metadata": {},
   "outputs": [],
   "source": [
    "# An important method on pandas objects is reindex, which means to create a new object with the data conformed to a new index\n",
    "# consider an example\n",
    "\n",
    "cars = pd.Series(['Bugatti', 'Lamborghini', 'Rolls Royce', 'Mustang'], index = [2, 1, 4, 3])"
   ]
  },
  {
   "cell_type": "code",
   "execution_count": 3,
   "id": "f964c97f",
   "metadata": {},
   "outputs": [
    {
     "data": {
      "text/plain": [
       "2        Bugatti\n",
       "1    Lamborghini\n",
       "4    Rolls Royce\n",
       "3        Mustang\n",
       "dtype: object"
      ]
     },
     "execution_count": 3,
     "metadata": {},
     "output_type": "execute_result"
    }
   ],
   "source": [
    "cars"
   ]
  },
  {
   "cell_type": "code",
   "execution_count": 4,
   "id": "96958715",
   "metadata": {},
   "outputs": [],
   "source": [
    "# Calling reindexing on this series rearranges the data according to the new index, introducing missing values if any index values were not already present\n",
    "\n",
    "cars2 = cars.reindex([1, 2, 3, 4, 5])"
   ]
  },
  {
   "cell_type": "code",
   "execution_count": 5,
   "id": "dcaed5e3",
   "metadata": {},
   "outputs": [
    {
     "data": {
      "text/plain": [
       "1    Lamborghini\n",
       "2        Bugatti\n",
       "3        Mustang\n",
       "4    Rolls Royce\n",
       "5            NaN\n",
       "dtype: object"
      ]
     },
     "execution_count": 5,
     "metadata": {},
     "output_type": "execute_result"
    }
   ],
   "source": [
    "cars2"
   ]
  },
  {
   "cell_type": "code",
   "execution_count": 6,
   "id": "2eafd20a",
   "metadata": {},
   "outputs": [],
   "source": [
    "# For ordered data like time series, it may be desirable to do some interpolation or filling of values when reindxing\n",
    "# The method option allows us to do this, using a method such as ffill, which forward fills the values\n",
    "\n",
    "color = pd.Series(['black', 'red', 'blue'], index = [0, 2, 4])"
   ]
  },
  {
   "cell_type": "code",
   "execution_count": 7,
   "id": "adc733b5",
   "metadata": {},
   "outputs": [
    {
     "data": {
      "text/plain": [
       "0    black\n",
       "2      red\n",
       "4     blue\n",
       "dtype: object"
      ]
     },
     "execution_count": 7,
     "metadata": {},
     "output_type": "execute_result"
    }
   ],
   "source": [
    "color"
   ]
  },
  {
   "cell_type": "code",
   "execution_count": 8,
   "id": "b9f5fbc1",
   "metadata": {},
   "outputs": [],
   "source": [
    "color2 = color.reindex(range(6), method='ffill')"
   ]
  },
  {
   "cell_type": "code",
   "execution_count": 9,
   "id": "a82a07cc",
   "metadata": {},
   "outputs": [
    {
     "data": {
      "text/plain": [
       "0    black\n",
       "1    black\n",
       "2      red\n",
       "3      red\n",
       "4     blue\n",
       "5     blue\n",
       "dtype: object"
      ]
     },
     "execution_count": 9,
     "metadata": {},
     "output_type": "execute_result"
    }
   ],
   "source": [
    "color2"
   ]
  },
  {
   "cell_type": "code",
   "execution_count": 10,
   "id": "840dc384",
   "metadata": {},
   "outputs": [],
   "source": [
    "# With DataFrame, reindex can alter either the (row) index, columns, or both\n",
    "# When pass only a sequence, it reindexes the rows in the result\n",
    "\n",
    "frame = pd.DataFrame(np.arange(9).reshape(3,3), index = [1, 3, 4], columns = ['Bugatti', 'Lamborghini', 'Rolls Royce'])"
   ]
  },
  {
   "cell_type": "code",
   "execution_count": 11,
   "id": "540049f3",
   "metadata": {},
   "outputs": [
    {
     "data": {
      "text/html": [
       "<div>\n",
       "<style scoped>\n",
       "    .dataframe tbody tr th:only-of-type {\n",
       "        vertical-align: middle;\n",
       "    }\n",
       "\n",
       "    .dataframe tbody tr th {\n",
       "        vertical-align: top;\n",
       "    }\n",
       "\n",
       "    .dataframe thead th {\n",
       "        text-align: right;\n",
       "    }\n",
       "</style>\n",
       "<table border=\"1\" class=\"dataframe\">\n",
       "  <thead>\n",
       "    <tr style=\"text-align: right;\">\n",
       "      <th></th>\n",
       "      <th>Bugatti</th>\n",
       "      <th>Lamborghini</th>\n",
       "      <th>Rolls Royce</th>\n",
       "    </tr>\n",
       "  </thead>\n",
       "  <tbody>\n",
       "    <tr>\n",
       "      <th>1</th>\n",
       "      <td>0</td>\n",
       "      <td>1</td>\n",
       "      <td>2</td>\n",
       "    </tr>\n",
       "    <tr>\n",
       "      <th>3</th>\n",
       "      <td>3</td>\n",
       "      <td>4</td>\n",
       "      <td>5</td>\n",
       "    </tr>\n",
       "    <tr>\n",
       "      <th>4</th>\n",
       "      <td>6</td>\n",
       "      <td>7</td>\n",
       "      <td>8</td>\n",
       "    </tr>\n",
       "  </tbody>\n",
       "</table>\n",
       "</div>"
      ],
      "text/plain": [
       "   Bugatti  Lamborghini  Rolls Royce\n",
       "1        0            1            2\n",
       "3        3            4            5\n",
       "4        6            7            8"
      ]
     },
     "execution_count": 11,
     "metadata": {},
     "output_type": "execute_result"
    }
   ],
   "source": [
    "frame"
   ]
  },
  {
   "cell_type": "code",
   "execution_count": 12,
   "id": "7521db5b",
   "metadata": {},
   "outputs": [],
   "source": [
    "frame2 = frame.reindex([1, 2, 3, 4])"
   ]
  },
  {
   "cell_type": "code",
   "execution_count": 13,
   "id": "cfca9cb2",
   "metadata": {},
   "outputs": [
    {
     "data": {
      "text/html": [
       "<div>\n",
       "<style scoped>\n",
       "    .dataframe tbody tr th:only-of-type {\n",
       "        vertical-align: middle;\n",
       "    }\n",
       "\n",
       "    .dataframe tbody tr th {\n",
       "        vertical-align: top;\n",
       "    }\n",
       "\n",
       "    .dataframe thead th {\n",
       "        text-align: right;\n",
       "    }\n",
       "</style>\n",
       "<table border=\"1\" class=\"dataframe\">\n",
       "  <thead>\n",
       "    <tr style=\"text-align: right;\">\n",
       "      <th></th>\n",
       "      <th>Bugatti</th>\n",
       "      <th>Lamborghini</th>\n",
       "      <th>Rolls Royce</th>\n",
       "    </tr>\n",
       "  </thead>\n",
       "  <tbody>\n",
       "    <tr>\n",
       "      <th>1</th>\n",
       "      <td>0.0</td>\n",
       "      <td>1.0</td>\n",
       "      <td>2.0</td>\n",
       "    </tr>\n",
       "    <tr>\n",
       "      <th>2</th>\n",
       "      <td>NaN</td>\n",
       "      <td>NaN</td>\n",
       "      <td>NaN</td>\n",
       "    </tr>\n",
       "    <tr>\n",
       "      <th>3</th>\n",
       "      <td>3.0</td>\n",
       "      <td>4.0</td>\n",
       "      <td>5.0</td>\n",
       "    </tr>\n",
       "    <tr>\n",
       "      <th>4</th>\n",
       "      <td>6.0</td>\n",
       "      <td>7.0</td>\n",
       "      <td>8.0</td>\n",
       "    </tr>\n",
       "  </tbody>\n",
       "</table>\n",
       "</div>"
      ],
      "text/plain": [
       "   Bugatti  Lamborghini  Rolls Royce\n",
       "1      0.0          1.0          2.0\n",
       "2      NaN          NaN          NaN\n",
       "3      3.0          4.0          5.0\n",
       "4      6.0          7.0          8.0"
      ]
     },
     "execution_count": 13,
     "metadata": {},
     "output_type": "execute_result"
    }
   ],
   "source": [
    "frame2"
   ]
  },
  {
   "cell_type": "code",
   "execution_count": 14,
   "id": "9b823d5c",
   "metadata": {},
   "outputs": [],
   "source": [
    "# The columns can be reindexed with the columns keyword\n",
    "\n",
    "cars3 = ['Lamborghini', 'Mustang','Rolls Royce']"
   ]
  },
  {
   "cell_type": "code",
   "execution_count": 15,
   "id": "e6432fd4",
   "metadata": {},
   "outputs": [],
   "source": [
    "frame3 = frame.reindex(columns = cars3)"
   ]
  },
  {
   "cell_type": "code",
   "execution_count": 16,
   "id": "bc9d6d5d",
   "metadata": {},
   "outputs": [
    {
     "data": {
      "text/html": [
       "<div>\n",
       "<style scoped>\n",
       "    .dataframe tbody tr th:only-of-type {\n",
       "        vertical-align: middle;\n",
       "    }\n",
       "\n",
       "    .dataframe tbody tr th {\n",
       "        vertical-align: top;\n",
       "    }\n",
       "\n",
       "    .dataframe thead th {\n",
       "        text-align: right;\n",
       "    }\n",
       "</style>\n",
       "<table border=\"1\" class=\"dataframe\">\n",
       "  <thead>\n",
       "    <tr style=\"text-align: right;\">\n",
       "      <th></th>\n",
       "      <th>Lamborghini</th>\n",
       "      <th>Mustang</th>\n",
       "      <th>Rolls Royce</th>\n",
       "    </tr>\n",
       "  </thead>\n",
       "  <tbody>\n",
       "    <tr>\n",
       "      <th>1</th>\n",
       "      <td>1</td>\n",
       "      <td>NaN</td>\n",
       "      <td>2</td>\n",
       "    </tr>\n",
       "    <tr>\n",
       "      <th>3</th>\n",
       "      <td>4</td>\n",
       "      <td>NaN</td>\n",
       "      <td>5</td>\n",
       "    </tr>\n",
       "    <tr>\n",
       "      <th>4</th>\n",
       "      <td>7</td>\n",
       "      <td>NaN</td>\n",
       "      <td>8</td>\n",
       "    </tr>\n",
       "  </tbody>\n",
       "</table>\n",
       "</div>"
      ],
      "text/plain": [
       "   Lamborghini  Mustang  Rolls Royce\n",
       "1            1      NaN            2\n",
       "3            4      NaN            5\n",
       "4            7      NaN            8"
      ]
     },
     "execution_count": 16,
     "metadata": {},
     "output_type": "execute_result"
    }
   ],
   "source": [
    "# As we'll explore in more detail, you can reindex more succintly by label - indexing with loc and many users prefer to use it exclusively\n",
    "\n",
    "frame3.loc[[1, 3, 4], cars3]"
   ]
  },
  {
   "cell_type": "markdown",
   "id": "755b9b07",
   "metadata": {},
   "source": [
    "# Reindex Function Arguments"
   ]
  },
  {
   "cell_type": "code",
   "execution_count": 17,
   "id": "c1d70a0c",
   "metadata": {},
   "outputs": [
    {
     "name": "stdout",
     "output_type": "stream",
     "text": [
      "Original DataFrame:\n",
      "         Price  Quantity\n",
      "Product                 \n",
      "A           10         5\n",
      "B           20        10\n",
      "C           15         8\n",
      "D           25        12\n",
      "\n",
      "DataFrame with a new index:\n",
      "         Price  Quantity\n",
      "Product                 \n",
      "Jan        NaN       NaN\n",
      "Feb        NaN       NaN\n",
      "Mar        NaN       NaN\n",
      "Apr        NaN       NaN\n"
     ]
    }
   ],
   "source": [
    "# Argument: index\n",
    "# Description: New sequence to use as index. Can be Index instance or any other sequence-like Python data structure. An Index will be used exactly as is without any copying.\n",
    "\n",
    "# Sample sales data\n",
    "data = {'Product': ['A', 'B', 'C', 'D'],\n",
    "        'Price': [10, 20, 15, 25],\n",
    "        'Quantity': [5, 10, 8, 12]}\n",
    "\n",
    "# Create a DataFrame with the 'Product' column as the index\n",
    "df = pd.DataFrame(data).set_index('Product')\n",
    "print(\"Original DataFrame:\")\n",
    "print(df)\n",
    "\n",
    "# Define a new index as a list\n",
    "new_index = ['Jan', 'Feb', 'Mar', 'Apr']\n",
    "\n",
    "# Assign the new index to the DataFrame using the 'index' argument\n",
    "df = df.reindex(new_index)\n",
    "print(\"\\nDataFrame with a new index:\")\n",
    "print(df)\n"
   ]
  },
  {
   "cell_type": "code",
   "execution_count": 18,
   "id": "7772d530",
   "metadata": {},
   "outputs": [
    {
     "name": "stdout",
     "output_type": "stream",
     "text": [
      "Original DataFrame:\n",
      "     A     B\n",
      "0  1.0   6.0\n",
      "1  NaN   NaN\n",
      "2  NaN   8.0\n",
      "3  4.0   9.0\n",
      "4  5.0  10.0\n",
      "\n",
      "DataFrame with missing values filled using 'ffill':\n",
      "     A     B\n",
      "0  1.0   6.0\n",
      "1  1.0   6.0\n",
      "2  1.0   8.0\n",
      "3  4.0   9.0\n",
      "4  5.0  10.0\n"
     ]
    }
   ],
   "source": [
    "# Argument: Method\n",
    "# Description: Interpolation (fill) method; 'ffill' fills forward, while 'bfill' fills backward.\n",
    "\n",
    "# Sample DataFrame with missing values\n",
    "data = {'A': [1, np.nan, np.nan, 4, 5],\n",
    "        'B': [6, np.nan, 8, 9, 10]}\n",
    "df = pd.DataFrame(data)\n",
    "print(\"Original DataFrame:\")\n",
    "print(df)\n",
    "\n",
    "# Fill missing values using the 'ffill' method\n",
    "df_filled = df.fillna(method='ffill')\n",
    "print(\"\\nDataFrame with missing values filled using 'ffill':\")\n",
    "print(df_filled)"
   ]
  },
  {
   "cell_type": "code",
   "execution_count": 19,
   "id": "01ab54db",
   "metadata": {},
   "outputs": [
    {
     "name": "stdout",
     "output_type": "stream",
     "text": [
      "Original DataFrame:\n",
      "     A     B\n",
      "0  1.0   6.0\n",
      "1  NaN   NaN\n",
      "2  NaN   8.0\n",
      "3  4.0   NaN\n",
      "4  5.0  10.0\n",
      "\n",
      "DataFrame with missing values filled using 'bfill':\n",
      "     A     B\n",
      "0  1.0   6.0\n",
      "1  4.0   8.0\n",
      "2  4.0   8.0\n",
      "3  4.0  10.0\n",
      "4  5.0  10.0\n"
     ]
    }
   ],
   "source": [
    "# Example of bfill method\n",
    "\n",
    "# Sample DataFrame with missing values\n",
    "data = {'A': [1, np.nan, np.nan, 4, 5],\n",
    "        'B': [6, np.nan, 8, np.nan, 10]}\n",
    "df = pd.DataFrame(data)\n",
    "print(\"Original DataFrame:\")\n",
    "print(df)\n",
    "\n",
    "# Fill missing values using the 'bfill' method\n",
    "df_filled = df.fillna(method='bfill')\n",
    "print(\"\\nDataFrame with missing values filled using 'bfill':\")\n",
    "print(df_filled)"
   ]
  },
  {
   "cell_type": "code",
   "execution_count": 20,
   "id": "edad50f6",
   "metadata": {},
   "outputs": [
    {
     "name": "stdout",
     "output_type": "stream",
     "text": [
      "Original DataFrame:\n",
      "   A  B\n",
      "a  1  4\n",
      "b  2  5\n",
      "c  3  6\n",
      "\n",
      "Reindexed DataFrame with fill_value=0:\n",
      "   A  B\n",
      "a  1  4\n",
      "b  2  5\n",
      "c  3  6\n",
      "d  0  0\n",
      "e  0  0\n"
     ]
    }
   ],
   "source": [
    "# Argument: fill_value\n",
    "# Description: Substitute value to use when introducing missing data by reindexing.\n",
    "\n",
    "# Sample DataFrame\n",
    "data = {'A': [1, 2, 3],\n",
    "        'B': [4, 5, 6]}\n",
    "df = pd.DataFrame(data, index=['a', 'b', 'c'])\n",
    "print(\"Original DataFrame:\")\n",
    "print(df)\n",
    "\n",
    "# Reindex the DataFrame with additional labels and fill missing values with 0\n",
    "new_index = ['a', 'b', 'c', 'd', 'e']\n",
    "df_reindexed = df.reindex(new_index, fill_value=0)\n",
    "print(\"\\nReindexed DataFrame with fill_value=0:\")\n",
    "print(df_reindexed)"
   ]
  },
  {
   "cell_type": "code",
   "execution_count": 21,
   "id": "7c8930fd",
   "metadata": {},
   "outputs": [
    {
     "name": "stdout",
     "output_type": "stream",
     "text": [
      "Original DataFrame:\n",
      "     A     B\n",
      "0  1.0   6.0\n",
      "1  NaN   NaN\n",
      "2  NaN   NaN\n",
      "3  NaN   NaN\n",
      "4  5.0  10.0\n",
      "\n",
      "DataFrame with forward-filled values (limit=2):\n",
      "     A     B\n",
      "0  1.0   6.0\n",
      "1  1.0   6.0\n",
      "2  1.0   6.0\n",
      "3  NaN   NaN\n",
      "4  5.0  10.0\n",
      "\n",
      "DataFrame with backward-filled values (limit=1):\n",
      "     A     B\n",
      "0  1.0   6.0\n",
      "1  NaN   NaN\n",
      "2  NaN   NaN\n",
      "3  5.0  10.0\n",
      "4  5.0  10.0\n"
     ]
    }
   ],
   "source": [
    "# Argument: limit\n",
    "# Description: When forward- or backfilling, maximum size gap (in number of elements) to fill.\n",
    "\n",
    "# Sample DataFrame with missing values\n",
    "data = {'A': [1, np.nan, np.nan, np.nan, 5],\n",
    "        'B': [6, np.nan, np.nan, np.nan, 10]}\n",
    "df = pd.DataFrame(data)\n",
    "print(\"Original DataFrame:\")\n",
    "print(df)\n",
    "\n",
    "# Forward-fill missing values with a limit of 2 consecutive values\n",
    "df_ffill = df.ffill(limit=2)\n",
    "print(\"\\nDataFrame with forward-filled values (limit=2):\")\n",
    "print(df_ffill)\n",
    "\n",
    "# Backward-fill missing values with a limit of 1 consecutive value\n",
    "df_bfill = df.bfill(limit=1)\n",
    "print(\"\\nDataFrame with backward-filled values (limit=1):\")\n",
    "print(df_bfill)\n"
   ]
  },
  {
   "cell_type": "code",
   "execution_count": 22,
   "id": "a3ff693f",
   "metadata": {},
   "outputs": [],
   "source": [
    "# Argument: tolerance\n",
    "# Description: When forward- or backfilling, maximum size gap (in absolute numeric distance) to fill for inexact matches."
   ]
  },
  {
   "cell_type": "code",
   "execution_count": 23,
   "id": "9642ace7",
   "metadata": {},
   "outputs": [],
   "source": [
    "# Argument: level\n",
    "# Description: Match simple Index on level of MultiIndex; otherwise select subset of."
   ]
  },
  {
   "cell_type": "code",
   "execution_count": 24,
   "id": "11d4e27a",
   "metadata": {},
   "outputs": [
    {
     "name": "stdout",
     "output_type": "stream",
     "text": [
      "    A  B\n",
      "X  10  4\n",
      "Y   2  5\n",
      "Z   3  6\n"
     ]
    }
   ],
   "source": [
    "# Argument: copy\n",
    "# Description: If True, always copy underlying data even if new index is equivalent to old index; if False, do not copy the data when the indexes are equivalen t\n",
    "\n",
    "import pandas as pd\n",
    "\n",
    "# Create a DataFrame with a simple index\n",
    "data = {'A': [1, 2, 3], 'B': [4, 5, 6]}\n",
    "df = pd.DataFrame(data, index=['X', 'Y', 'Z'])\n",
    "\n",
    "# Create a new DataFrame with an equivalent index\n",
    "df_copy = df.reindex(['X', 'Y', 'Z'], copy=True)\n",
    "df_no_copy = df.reindex(['X', 'Y', 'Z'], copy=False)\n",
    "\n",
    "# Modify the new DataFrames\n",
    "df_copy.loc['X', 'A'] = 10\n",
    "df_no_copy.loc['X', 'A'] = 10\n",
    "\n",
    "# Check the original DataFrame\n",
    "print(df)"
   ]
  },
  {
   "cell_type": "code",
   "execution_count": null,
   "id": "72b059aa",
   "metadata": {},
   "outputs": [],
   "source": []
  }
 ],
 "metadata": {
  "kernelspec": {
   "display_name": "Python 3 (ipykernel)",
   "language": "python",
   "name": "python3"
  },
  "language_info": {
   "codemirror_mode": {
    "name": "ipython",
    "version": 3
   },
   "file_extension": ".py",
   "mimetype": "text/x-python",
   "name": "python",
   "nbconvert_exporter": "python",
   "pygments_lexer": "ipython3",
   "version": "3.10.9"
  }
 },
 "nbformat": 4,
 "nbformat_minor": 5
}
