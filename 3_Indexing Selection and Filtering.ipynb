{
 "cells": [
  {
   "cell_type": "code",
   "execution_count": 1,
   "id": "1766e28e",
   "metadata": {},
   "outputs": [],
   "source": [
    "import pandas as pd\n",
    "import numpy as np"
   ]
  },
  {
   "cell_type": "code",
   "execution_count": 2,
   "id": "067ce884",
   "metadata": {},
   "outputs": [],
   "source": [
    "\"\"\"\n",
    "Series indexing (obj[...]) works analogously to Numpy array indexing, except you can use the series's index values instead of \n",
    "only integers.\n",
    "\"\"\"\n",
    "\n",
    "car_names = pd.Series(['Bugatti', 'Lamborghini', 'Rolls Royce', 'Mustang', 'Skyline'], index = [1, 2, 3, 4, 5])"
   ]
  },
  {
   "cell_type": "code",
   "execution_count": 3,
   "id": "cd42590d",
   "metadata": {},
   "outputs": [
    {
     "data": {
      "text/plain": [
       "1        Bugatti\n",
       "2    Lamborghini\n",
       "3    Rolls Royce\n",
       "4        Mustang\n",
       "5        Skyline\n",
       "dtype: object"
      ]
     },
     "execution_count": 3,
     "metadata": {},
     "output_type": "execute_result"
    }
   ],
   "source": [
    "car_names"
   ]
  },
  {
   "cell_type": "code",
   "execution_count": 4,
   "id": "8378b2a8",
   "metadata": {},
   "outputs": [
    {
     "data": {
      "text/plain": [
       "'Lamborghini'"
      ]
     },
     "execution_count": 4,
     "metadata": {},
     "output_type": "execute_result"
    }
   ],
   "source": [
    "car_names[2]"
   ]
  },
  {
   "cell_type": "code",
   "execution_count": 5,
   "id": "1a0dff0d",
   "metadata": {},
   "outputs": [
    {
     "data": {
      "text/plain": [
       "'Bugatti'"
      ]
     },
     "execution_count": 5,
     "metadata": {},
     "output_type": "execute_result"
    }
   ],
   "source": [
    "car_names[1]"
   ]
  },
  {
   "cell_type": "code",
   "execution_count": 6,
   "id": "947e0b2b",
   "metadata": {},
   "outputs": [
    {
     "data": {
      "text/plain": [
       "3    Rolls Royce\n",
       "4        Mustang\n",
       "dtype: object"
      ]
     },
     "execution_count": 6,
     "metadata": {},
     "output_type": "execute_result"
    }
   ],
   "source": [
    "car_names[2:4]"
   ]
  },
  {
   "cell_type": "code",
   "execution_count": 7,
   "id": "6a407958",
   "metadata": {},
   "outputs": [
    {
     "data": {
      "text/plain": [
       "2    Lamborghini\n",
       "1        Bugatti\n",
       "4        Mustang\n",
       "dtype: object"
      ]
     },
     "execution_count": 7,
     "metadata": {},
     "output_type": "execute_result"
    }
   ],
   "source": [
    "car_names[[2, 1, 4]]"
   ]
  },
  {
   "cell_type": "code",
   "execution_count": 8,
   "id": "0a6d605b",
   "metadata": {},
   "outputs": [
    {
     "data": {
      "text/plain": [
       "1        Bugatti\n",
       "3    Rolls Royce\n",
       "dtype: object"
      ]
     },
     "execution_count": 8,
     "metadata": {},
     "output_type": "execute_result"
    }
   ],
   "source": [
    "car_names[[1, 3]]"
   ]
  },
  {
   "cell_type": "code",
   "execution_count": 9,
   "id": "b0154cf2",
   "metadata": {},
   "outputs": [
    {
     "data": {
      "text/plain": [
       "3    Rolls Royce\n",
       "dtype: object"
      ]
     },
     "execution_count": 9,
     "metadata": {},
     "output_type": "execute_result"
    }
   ],
   "source": [
    "# Slicing with labels behaves differently than normal python slicing in that the end point is inclusive:\n",
    "\n",
    "car_names[2:3]"
   ]
  },
  {
   "cell_type": "code",
   "execution_count": 10,
   "id": "41424c5c",
   "metadata": {},
   "outputs": [],
   "source": [
    "# Setting using these methods modifies the corresponding section of the series:\n",
    "\n",
    "car_names[2:3] = 'Koenigsegg jesko'"
   ]
  },
  {
   "cell_type": "code",
   "execution_count": 11,
   "id": "f6325d3f",
   "metadata": {},
   "outputs": [
    {
     "data": {
      "text/plain": [
       "1             Bugatti\n",
       "2         Lamborghini\n",
       "3    Koenigsegg jesko\n",
       "4             Mustang\n",
       "5             Skyline\n",
       "dtype: object"
      ]
     },
     "execution_count": 11,
     "metadata": {},
     "output_type": "execute_result"
    }
   ],
   "source": [
    "car_names"
   ]
  },
  {
   "cell_type": "code",
   "execution_count": 12,
   "id": "ee23b70e",
   "metadata": {},
   "outputs": [],
   "source": [
    "# Indexing into a DataFrame is for reteriving one or more columns either with a single value or sequence:\n",
    "\n",
    "# With DataFrame, index values can be deleted from either axis. To illustrate this, we first create an example DataFrame.\n",
    "\n",
    "car_data = pd.DataFrame(np.arange(16).reshape(4,4), index = ['Bugatti', 'Lamborghini', 'Rolls Royce', 'Koenigsegg jesko'],\n",
    "                   columns = ['One', 'Two', 'Three', 'Four'])"
   ]
  },
  {
   "cell_type": "code",
   "execution_count": 13,
   "id": "0f8dcf7a",
   "metadata": {},
   "outputs": [
    {
     "data": {
      "text/html": [
       "<div>\n",
       "<style scoped>\n",
       "    .dataframe tbody tr th:only-of-type {\n",
       "        vertical-align: middle;\n",
       "    }\n",
       "\n",
       "    .dataframe tbody tr th {\n",
       "        vertical-align: top;\n",
       "    }\n",
       "\n",
       "    .dataframe thead th {\n",
       "        text-align: right;\n",
       "    }\n",
       "</style>\n",
       "<table border=\"1\" class=\"dataframe\">\n",
       "  <thead>\n",
       "    <tr style=\"text-align: right;\">\n",
       "      <th></th>\n",
       "      <th>One</th>\n",
       "      <th>Two</th>\n",
       "      <th>Three</th>\n",
       "      <th>Four</th>\n",
       "    </tr>\n",
       "  </thead>\n",
       "  <tbody>\n",
       "    <tr>\n",
       "      <th>Bugatti</th>\n",
       "      <td>0</td>\n",
       "      <td>1</td>\n",
       "      <td>2</td>\n",
       "      <td>3</td>\n",
       "    </tr>\n",
       "    <tr>\n",
       "      <th>Lamborghini</th>\n",
       "      <td>4</td>\n",
       "      <td>5</td>\n",
       "      <td>6</td>\n",
       "      <td>7</td>\n",
       "    </tr>\n",
       "    <tr>\n",
       "      <th>Rolls Royce</th>\n",
       "      <td>8</td>\n",
       "      <td>9</td>\n",
       "      <td>10</td>\n",
       "      <td>11</td>\n",
       "    </tr>\n",
       "    <tr>\n",
       "      <th>Koenigsegg jesko</th>\n",
       "      <td>12</td>\n",
       "      <td>13</td>\n",
       "      <td>14</td>\n",
       "      <td>15</td>\n",
       "    </tr>\n",
       "  </tbody>\n",
       "</table>\n",
       "</div>"
      ],
      "text/plain": [
       "                  One  Two  Three  Four\n",
       "Bugatti             0    1      2     3\n",
       "Lamborghini         4    5      6     7\n",
       "Rolls Royce         8    9     10    11\n",
       "Koenigsegg jesko   12   13     14    15"
      ]
     },
     "execution_count": 13,
     "metadata": {},
     "output_type": "execute_result"
    }
   ],
   "source": [
    "car_data"
   ]
  },
  {
   "cell_type": "code",
   "execution_count": 14,
   "id": "9378e2b2",
   "metadata": {},
   "outputs": [
    {
     "data": {
      "text/plain": [
       "Bugatti              1\n",
       "Lamborghini          5\n",
       "Rolls Royce          9\n",
       "Koenigsegg jesko    13\n",
       "Name: Two, dtype: int32"
      ]
     },
     "execution_count": 14,
     "metadata": {},
     "output_type": "execute_result"
    }
   ],
   "source": [
    "car_data['Two']"
   ]
  },
  {
   "cell_type": "code",
   "execution_count": 15,
   "id": "6c2f0674",
   "metadata": {},
   "outputs": [
    {
     "data": {
      "text/html": [
       "<div>\n",
       "<style scoped>\n",
       "    .dataframe tbody tr th:only-of-type {\n",
       "        vertical-align: middle;\n",
       "    }\n",
       "\n",
       "    .dataframe tbody tr th {\n",
       "        vertical-align: top;\n",
       "    }\n",
       "\n",
       "    .dataframe thead th {\n",
       "        text-align: right;\n",
       "    }\n",
       "</style>\n",
       "<table border=\"1\" class=\"dataframe\">\n",
       "  <thead>\n",
       "    <tr style=\"text-align: right;\">\n",
       "      <th></th>\n",
       "      <th>Three</th>\n",
       "      <th>One</th>\n",
       "    </tr>\n",
       "  </thead>\n",
       "  <tbody>\n",
       "    <tr>\n",
       "      <th>Bugatti</th>\n",
       "      <td>2</td>\n",
       "      <td>0</td>\n",
       "    </tr>\n",
       "    <tr>\n",
       "      <th>Lamborghini</th>\n",
       "      <td>6</td>\n",
       "      <td>4</td>\n",
       "    </tr>\n",
       "    <tr>\n",
       "      <th>Rolls Royce</th>\n",
       "      <td>10</td>\n",
       "      <td>8</td>\n",
       "    </tr>\n",
       "    <tr>\n",
       "      <th>Koenigsegg jesko</th>\n",
       "      <td>14</td>\n",
       "      <td>12</td>\n",
       "    </tr>\n",
       "  </tbody>\n",
       "</table>\n",
       "</div>"
      ],
      "text/plain": [
       "                  Three  One\n",
       "Bugatti               2    0\n",
       "Lamborghini           6    4\n",
       "Rolls Royce          10    8\n",
       "Koenigsegg jesko     14   12"
      ]
     },
     "execution_count": 15,
     "metadata": {},
     "output_type": "execute_result"
    }
   ],
   "source": [
    "car_data[['Three', 'One']]"
   ]
  },
  {
   "cell_type": "code",
   "execution_count": 16,
   "id": "36d58eb8",
   "metadata": {},
   "outputs": [
    {
     "data": {
      "text/html": [
       "<div>\n",
       "<style scoped>\n",
       "    .dataframe tbody tr th:only-of-type {\n",
       "        vertical-align: middle;\n",
       "    }\n",
       "\n",
       "    .dataframe tbody tr th {\n",
       "        vertical-align: top;\n",
       "    }\n",
       "\n",
       "    .dataframe thead th {\n",
       "        text-align: right;\n",
       "    }\n",
       "</style>\n",
       "<table border=\"1\" class=\"dataframe\">\n",
       "  <thead>\n",
       "    <tr style=\"text-align: right;\">\n",
       "      <th></th>\n",
       "      <th>One</th>\n",
       "      <th>Two</th>\n",
       "      <th>Three</th>\n",
       "      <th>Four</th>\n",
       "    </tr>\n",
       "  </thead>\n",
       "  <tbody>\n",
       "    <tr>\n",
       "      <th>Bugatti</th>\n",
       "      <td>0</td>\n",
       "      <td>1</td>\n",
       "      <td>2</td>\n",
       "      <td>3</td>\n",
       "    </tr>\n",
       "    <tr>\n",
       "      <th>Lamborghini</th>\n",
       "      <td>4</td>\n",
       "      <td>5</td>\n",
       "      <td>6</td>\n",
       "      <td>7</td>\n",
       "    </tr>\n",
       "  </tbody>\n",
       "</table>\n",
       "</div>"
      ],
      "text/plain": [
       "             One  Two  Three  Four\n",
       "Bugatti        0    1      2     3\n",
       "Lamborghini    4    5      6     7"
      ]
     },
     "execution_count": 16,
     "metadata": {},
     "output_type": "execute_result"
    }
   ],
   "source": [
    "# Indexing like this has a few special cases, first, slicing or selecting data with a boolean array:\n",
    "\n",
    "car_data[:2]"
   ]
  },
  {
   "cell_type": "code",
   "execution_count": 17,
   "id": "b8908c67",
   "metadata": {},
   "outputs": [
    {
     "data": {
      "text/html": [
       "<div>\n",
       "<style scoped>\n",
       "    .dataframe tbody tr th:only-of-type {\n",
       "        vertical-align: middle;\n",
       "    }\n",
       "\n",
       "    .dataframe tbody tr th {\n",
       "        vertical-align: top;\n",
       "    }\n",
       "\n",
       "    .dataframe thead th {\n",
       "        text-align: right;\n",
       "    }\n",
       "</style>\n",
       "<table border=\"1\" class=\"dataframe\">\n",
       "  <thead>\n",
       "    <tr style=\"text-align: right;\">\n",
       "      <th></th>\n",
       "      <th>One</th>\n",
       "      <th>Two</th>\n",
       "      <th>Three</th>\n",
       "      <th>Four</th>\n",
       "    </tr>\n",
       "  </thead>\n",
       "  <tbody>\n",
       "    <tr>\n",
       "      <th>Lamborghini</th>\n",
       "      <td>4</td>\n",
       "      <td>5</td>\n",
       "      <td>6</td>\n",
       "      <td>7</td>\n",
       "    </tr>\n",
       "    <tr>\n",
       "      <th>Rolls Royce</th>\n",
       "      <td>8</td>\n",
       "      <td>9</td>\n",
       "      <td>10</td>\n",
       "      <td>11</td>\n",
       "    </tr>\n",
       "    <tr>\n",
       "      <th>Koenigsegg jesko</th>\n",
       "      <td>12</td>\n",
       "      <td>13</td>\n",
       "      <td>14</td>\n",
       "      <td>15</td>\n",
       "    </tr>\n",
       "  </tbody>\n",
       "</table>\n",
       "</div>"
      ],
      "text/plain": [
       "                  One  Two  Three  Four\n",
       "Lamborghini         4    5      6     7\n",
       "Rolls Royce         8    9     10    11\n",
       "Koenigsegg jesko   12   13     14    15"
      ]
     },
     "execution_count": 17,
     "metadata": {},
     "output_type": "execute_result"
    }
   ],
   "source": [
    "car_data[car_data['Three'] > 5]"
   ]
  },
  {
   "cell_type": "code",
   "execution_count": 18,
   "id": "1ed73465",
   "metadata": {},
   "outputs": [
    {
     "data": {
      "text/html": [
       "<div>\n",
       "<style scoped>\n",
       "    .dataframe tbody tr th:only-of-type {\n",
       "        vertical-align: middle;\n",
       "    }\n",
       "\n",
       "    .dataframe tbody tr th {\n",
       "        vertical-align: top;\n",
       "    }\n",
       "\n",
       "    .dataframe thead th {\n",
       "        text-align: right;\n",
       "    }\n",
       "</style>\n",
       "<table border=\"1\" class=\"dataframe\">\n",
       "  <thead>\n",
       "    <tr style=\"text-align: right;\">\n",
       "      <th></th>\n",
       "      <th>One</th>\n",
       "      <th>Two</th>\n",
       "      <th>Three</th>\n",
       "      <th>Four</th>\n",
       "    </tr>\n",
       "  </thead>\n",
       "  <tbody>\n",
       "    <tr>\n",
       "      <th>Bugatti</th>\n",
       "      <td>True</td>\n",
       "      <td>True</td>\n",
       "      <td>True</td>\n",
       "      <td>True</td>\n",
       "    </tr>\n",
       "    <tr>\n",
       "      <th>Lamborghini</th>\n",
       "      <td>True</td>\n",
       "      <td>False</td>\n",
       "      <td>False</td>\n",
       "      <td>False</td>\n",
       "    </tr>\n",
       "    <tr>\n",
       "      <th>Rolls Royce</th>\n",
       "      <td>False</td>\n",
       "      <td>False</td>\n",
       "      <td>False</td>\n",
       "      <td>False</td>\n",
       "    </tr>\n",
       "    <tr>\n",
       "      <th>Koenigsegg jesko</th>\n",
       "      <td>False</td>\n",
       "      <td>False</td>\n",
       "      <td>False</td>\n",
       "      <td>False</td>\n",
       "    </tr>\n",
       "  </tbody>\n",
       "</table>\n",
       "</div>"
      ],
      "text/plain": [
       "                    One    Two  Three   Four\n",
       "Bugatti            True   True   True   True\n",
       "Lamborghini        True  False  False  False\n",
       "Rolls Royce       False  False  False  False\n",
       "Koenigsegg jesko  False  False  False  False"
      ]
     },
     "execution_count": 18,
     "metadata": {},
     "output_type": "execute_result"
    }
   ],
   "source": [
    "\"\"\"\n",
    "The row selection syntax data [:2] is provided as a convenience. Passing a single element or a list to the [] operator selects\n",
    "columns.\n",
    "Another use case is in indexing with boolean DataFrame, such as one produced by a scalar comparison\n",
    "\"\"\"\n",
    "\n",
    "car_data < 5"
   ]
  },
  {
   "cell_type": "code",
   "execution_count": 19,
   "id": "4f1c71fe",
   "metadata": {},
   "outputs": [],
   "source": [
    "car_data[car_data < 5] = 0"
   ]
  },
  {
   "cell_type": "code",
   "execution_count": 20,
   "id": "622d576f",
   "metadata": {},
   "outputs": [
    {
     "data": {
      "text/html": [
       "<div>\n",
       "<style scoped>\n",
       "    .dataframe tbody tr th:only-of-type {\n",
       "        vertical-align: middle;\n",
       "    }\n",
       "\n",
       "    .dataframe tbody tr th {\n",
       "        vertical-align: top;\n",
       "    }\n",
       "\n",
       "    .dataframe thead th {\n",
       "        text-align: right;\n",
       "    }\n",
       "</style>\n",
       "<table border=\"1\" class=\"dataframe\">\n",
       "  <thead>\n",
       "    <tr style=\"text-align: right;\">\n",
       "      <th></th>\n",
       "      <th>One</th>\n",
       "      <th>Two</th>\n",
       "      <th>Three</th>\n",
       "      <th>Four</th>\n",
       "    </tr>\n",
       "  </thead>\n",
       "  <tbody>\n",
       "    <tr>\n",
       "      <th>Bugatti</th>\n",
       "      <td>0</td>\n",
       "      <td>0</td>\n",
       "      <td>0</td>\n",
       "      <td>0</td>\n",
       "    </tr>\n",
       "    <tr>\n",
       "      <th>Lamborghini</th>\n",
       "      <td>0</td>\n",
       "      <td>5</td>\n",
       "      <td>6</td>\n",
       "      <td>7</td>\n",
       "    </tr>\n",
       "    <tr>\n",
       "      <th>Rolls Royce</th>\n",
       "      <td>8</td>\n",
       "      <td>9</td>\n",
       "      <td>10</td>\n",
       "      <td>11</td>\n",
       "    </tr>\n",
       "    <tr>\n",
       "      <th>Koenigsegg jesko</th>\n",
       "      <td>12</td>\n",
       "      <td>13</td>\n",
       "      <td>14</td>\n",
       "      <td>15</td>\n",
       "    </tr>\n",
       "  </tbody>\n",
       "</table>\n",
       "</div>"
      ],
      "text/plain": [
       "                  One  Two  Three  Four\n",
       "Bugatti             0    0      0     0\n",
       "Lamborghini         0    5      6     7\n",
       "Rolls Royce         8    9     10    11\n",
       "Koenigsegg jesko   12   13     14    15"
      ]
     },
     "execution_count": 20,
     "metadata": {},
     "output_type": "execute_result"
    }
   ],
   "source": [
    "car_data"
   ]
  },
  {
   "cell_type": "code",
   "execution_count": 21,
   "id": "4b54cd1d",
   "metadata": {},
   "outputs": [],
   "source": [
    "# This makes DataFrame syntatically more like a two-dimensional Numpy array in this particular case:"
   ]
  },
  {
   "cell_type": "markdown",
   "id": "470a7258",
   "metadata": {},
   "source": [
    "# Selection with loc and iloc"
   ]
  },
  {
   "cell_type": "code",
   "execution_count": 22,
   "id": "8c5a573b",
   "metadata": {},
   "outputs": [
    {
     "data": {
      "text/plain": [
       "Two      5\n",
       "Three    6\n",
       "Name: Lamborghini, dtype: int32"
      ]
     },
     "execution_count": 22,
     "metadata": {},
     "output_type": "execute_result"
    }
   ],
   "source": [
    "\"\"\"\n",
    "For DataFrame label-indexing on the rows, I introduce the special indexing operators loc and iloc. They enable you to select a \n",
    "subset of the rows and columns from a DataFrame with Numpy-like notation using either axis labels (loc) or integers (iloc)\n",
    "\"\"\"\n",
    "\n",
    "# As s preliminary example, let's select a single row and multiple columns by label:\n",
    "\n",
    "car_data.loc['Lamborghini', ['Two', 'Three']]"
   ]
  },
  {
   "cell_type": "code",
   "execution_count": 23,
   "id": "7092a46b",
   "metadata": {},
   "outputs": [
    {
     "data": {
      "text/plain": [
       "Four    11\n",
       "One      8\n",
       "Two      9\n",
       "Name: Rolls Royce, dtype: int32"
      ]
     },
     "execution_count": 23,
     "metadata": {},
     "output_type": "execute_result"
    }
   ],
   "source": [
    "# We'll then perform some similar selections with integers using iloc\n",
    "\n",
    "car_data.iloc[2, [3, 0, 1]]"
   ]
  },
  {
   "cell_type": "code",
   "execution_count": 24,
   "id": "9f0aa878",
   "metadata": {},
   "outputs": [
    {
     "data": {
      "text/plain": [
       "One       8\n",
       "Two       9\n",
       "Three    10\n",
       "Four     11\n",
       "Name: Rolls Royce, dtype: int32"
      ]
     },
     "execution_count": 24,
     "metadata": {},
     "output_type": "execute_result"
    }
   ],
   "source": [
    "car_data.iloc[2]"
   ]
  },
  {
   "cell_type": "code",
   "execution_count": 25,
   "id": "108febfa",
   "metadata": {},
   "outputs": [
    {
     "data": {
      "text/html": [
       "<div>\n",
       "<style scoped>\n",
       "    .dataframe tbody tr th:only-of-type {\n",
       "        vertical-align: middle;\n",
       "    }\n",
       "\n",
       "    .dataframe tbody tr th {\n",
       "        vertical-align: top;\n",
       "    }\n",
       "\n",
       "    .dataframe thead th {\n",
       "        text-align: right;\n",
       "    }\n",
       "</style>\n",
       "<table border=\"1\" class=\"dataframe\">\n",
       "  <thead>\n",
       "    <tr style=\"text-align: right;\">\n",
       "      <th></th>\n",
       "      <th>Four</th>\n",
       "      <th>One</th>\n",
       "      <th>Two</th>\n",
       "    </tr>\n",
       "  </thead>\n",
       "  <tbody>\n",
       "    <tr>\n",
       "      <th>Lamborghini</th>\n",
       "      <td>7</td>\n",
       "      <td>0</td>\n",
       "      <td>5</td>\n",
       "    </tr>\n",
       "    <tr>\n",
       "      <th>Rolls Royce</th>\n",
       "      <td>11</td>\n",
       "      <td>8</td>\n",
       "      <td>9</td>\n",
       "    </tr>\n",
       "  </tbody>\n",
       "</table>\n",
       "</div>"
      ],
      "text/plain": [
       "             Four  One  Two\n",
       "Lamborghini     7    0    5\n",
       "Rolls Royce    11    8    9"
      ]
     },
     "execution_count": 25,
     "metadata": {},
     "output_type": "execute_result"
    }
   ],
   "source": [
    "car_data.iloc[[1, 2], [3, 0, 1]]"
   ]
  },
  {
   "cell_type": "code",
   "execution_count": 26,
   "id": "19203763",
   "metadata": {},
   "outputs": [
    {
     "data": {
      "text/plain": [
       "Bugatti        0\n",
       "Lamborghini    5\n",
       "Rolls Royce    9\n",
       "Name: Two, dtype: int32"
      ]
     },
     "execution_count": 26,
     "metadata": {},
     "output_type": "execute_result"
    }
   ],
   "source": [
    "# Both indexing functions work with slices in addition to single labels or lists of labels:\n",
    "\n",
    "car_data.loc[:'Rolls Royce', 'Two']"
   ]
  },
  {
   "cell_type": "code",
   "execution_count": 27,
   "id": "8229be75",
   "metadata": {},
   "outputs": [
    {
     "data": {
      "text/html": [
       "<div>\n",
       "<style scoped>\n",
       "    .dataframe tbody tr th:only-of-type {\n",
       "        vertical-align: middle;\n",
       "    }\n",
       "\n",
       "    .dataframe tbody tr th {\n",
       "        vertical-align: top;\n",
       "    }\n",
       "\n",
       "    .dataframe thead th {\n",
       "        text-align: right;\n",
       "    }\n",
       "</style>\n",
       "<table border=\"1\" class=\"dataframe\">\n",
       "  <thead>\n",
       "    <tr style=\"text-align: right;\">\n",
       "      <th></th>\n",
       "      <th>One</th>\n",
       "      <th>Two</th>\n",
       "      <th>Three</th>\n",
       "    </tr>\n",
       "  </thead>\n",
       "  <tbody>\n",
       "    <tr>\n",
       "      <th>Lamborghini</th>\n",
       "      <td>0</td>\n",
       "      <td>5</td>\n",
       "      <td>6</td>\n",
       "    </tr>\n",
       "    <tr>\n",
       "      <th>Rolls Royce</th>\n",
       "      <td>8</td>\n",
       "      <td>9</td>\n",
       "      <td>10</td>\n",
       "    </tr>\n",
       "    <tr>\n",
       "      <th>Koenigsegg jesko</th>\n",
       "      <td>12</td>\n",
       "      <td>13</td>\n",
       "      <td>14</td>\n",
       "    </tr>\n",
       "  </tbody>\n",
       "</table>\n",
       "</div>"
      ],
      "text/plain": [
       "                  One  Two  Three\n",
       "Lamborghini         0    5      6\n",
       "Rolls Royce         8    9     10\n",
       "Koenigsegg jesko   12   13     14"
      ]
     },
     "execution_count": 27,
     "metadata": {},
     "output_type": "execute_result"
    }
   ],
   "source": [
    "car_data.iloc[:,:3][car_data.Three > 5]"
   ]
  },
  {
   "cell_type": "code",
   "execution_count": 28,
   "id": "2282ca8d",
   "metadata": {},
   "outputs": [
    {
     "name": "stdout",
     "output_type": "stream",
     "text": [
      "0       Anshu\n",
      "1       Sneha\n",
      "2    Samiksha\n",
      "Name: Name, dtype: object\n"
     ]
    }
   ],
   "source": [
    "# Type: df[val]\n",
    "# Notes: Select single column or sequence of columns from the DataFrame; special case conveniences: boolean array (filter rows), slice (slice rows), or boolean DataFrame (set values based on some criterion)\n",
    "\n",
    "# 1. Single Column Selection:\n",
    "\n",
    "# Create a DataFrame\n",
    "data = {'Name': ['Anshu', 'Sneha', 'Samiksha'],\n",
    "        'Age': [20, 19, 18],\n",
    "        'City': ['Chandigarh', 'Gurgaon', 'Delhi']}\n",
    "df = pd.DataFrame(data)\n",
    "\n",
    "# Select a single column\n",
    "name_column = df['Name']\n",
    "print(name_column)\n"
   ]
  },
  {
   "cell_type": "code",
   "execution_count": 29,
   "id": "5f5f51ee",
   "metadata": {},
   "outputs": [
    {
     "name": "stdout",
     "output_type": "stream",
     "text": [
      "       Name  Age\n",
      "0     Anshu   20\n",
      "1     Sneha   19\n",
      "2  Samiksha   18\n"
     ]
    }
   ],
   "source": [
    "# 2. Sequence of columns selection:\n",
    "\n",
    "# Select multiple columns\n",
    "name_age_columns = df[['Name', 'Age']]\n",
    "print(name_age_columns)"
   ]
  },
  {
   "cell_type": "code",
   "execution_count": 30,
   "id": "5008764a",
   "metadata": {},
   "outputs": [
    {
     "name": "stdout",
     "output_type": "stream",
     "text": [
      "    Name  Age        City\n",
      "0  Anshu   20  Chandigarh\n",
      "1  Sneha   19     Gurgaon\n"
     ]
    }
   ],
   "source": [
    "# 3. Boolean array (filter rows):\n",
    "\n",
    "# Filter rows based on a condition\n",
    "age_filter = df['Age'] > 18\n",
    "filtered_rows = df[age_filter]\n",
    "print(filtered_rows)"
   ]
  },
  {
   "cell_type": "code",
   "execution_count": 31,
   "id": "ad25436d",
   "metadata": {},
   "outputs": [
    {
     "name": "stdout",
     "output_type": "stream",
     "text": [
      "       Name  Age     City\n",
      "1     Sneha   19  Gurgaon\n",
      "2  Samiksha   18    Delhi\n"
     ]
    }
   ],
   "source": [
    "# 4. Slice (slice rows):\n",
    "\n",
    "# Slice rows\n",
    "sliced_rows = df[1:3]\n",
    "print(sliced_rows)"
   ]
  },
  {
   "cell_type": "code",
   "execution_count": 32,
   "id": "b6e8c444",
   "metadata": {},
   "outputs": [
    {
     "name": "stdout",
     "output_type": "stream",
     "text": [
      "       Name   Age        City\n",
      "0     Anshu   NaN  Chandigarh\n",
      "1       NaN  19.0     Gurgaon\n",
      "2  Samiksha   NaN         NaN\n"
     ]
    }
   ],
   "source": [
    "# 5. Boolean DataFrame (set values based on some criterion):\n",
    "\n",
    "# Create a boolean DataFrame for selection\n",
    "boolean_df = pd.DataFrame({'Name': [True, False, True],\n",
    "                           'Age': [False, True, False],\n",
    "                           'City': [True, True, False]})\n",
    "\n",
    "# Select values based on the boolean DataFrame\n",
    "selected_values = df[boolean_df]\n",
    "print(selected_values)"
   ]
  },
  {
   "cell_type": "code",
   "execution_count": 33,
   "id": "931edfce",
   "metadata": {},
   "outputs": [
    {
     "name": "stdout",
     "output_type": "stream",
     "text": [
      "Name         Anshu\n",
      "Age             20\n",
      "City    Chandigarh\n",
      "Name: A, dtype: object\n"
     ]
    }
   ],
   "source": [
    "# Type: df.loc[val]\n",
    "# Notes: Selects single row or subset of rows from the DataFrame by label\n",
    "\n",
    "# 1. Single row selection:\n",
    "\n",
    "# Create a DataFrame\n",
    "data = {'Name': ['Anshu', 'Sneha', 'Samiksha'],\n",
    "        'Age': [20, 19, 18],\n",
    "        'City': ['Chandigarh', 'Gurgaon', 'Delhi']}\n",
    "df = pd.DataFrame(data, index=['A', 'B', 'C'])\n",
    "\n",
    "# Select a single row by label\n",
    "row_A = df.loc['A']\n",
    "print(row_A)\n"
   ]
  },
  {
   "cell_type": "code",
   "execution_count": 34,
   "id": "634a38c7",
   "metadata": {},
   "outputs": [
    {
     "name": "stdout",
     "output_type": "stream",
     "text": [
      "       Name  Age        City\n",
      "A     Anshu   20  Chandigarh\n",
      "C  Samiksha   18       Delhi\n"
     ]
    }
   ],
   "source": [
    "# 2. List of labels selection:\n",
    "\n",
    "# Select multiple rows by labels\n",
    "rows_A_C = df.loc[['A', 'C']]\n",
    "print(rows_A_C)"
   ]
  },
  {
   "cell_type": "code",
   "execution_count": 35,
   "id": "cd8b889b",
   "metadata": {},
   "outputs": [
    {
     "name": "stdout",
     "output_type": "stream",
     "text": [
      "       Name  Age     City\n",
      "B     Sneha   19  Gurgaon\n",
      "C  Samiksha   18    Delhi\n"
     ]
    }
   ],
   "source": [
    "# 3. Slice of labels selection:\n",
    "\n",
    "# Slice rows by labels\n",
    "sliced_rows = df.loc['B':'C']\n",
    "print(sliced_rows)"
   ]
  },
  {
   "cell_type": "code",
   "execution_count": 36,
   "id": "623c15b4",
   "metadata": {},
   "outputs": [
    {
     "name": "stdout",
     "output_type": "stream",
     "text": [
      "    Name  Age     City\n",
      "B  Sneha   19  Gurgaon\n"
     ]
    }
   ],
   "source": [
    "# 4. Boolean array selection:\n",
    "\n",
    "# Create a boolean array for row selection\n",
    "boolean_array = [False, True, False]\n",
    "\n",
    "# Select rows based on the boolean array\n",
    "selected_rows = df.loc[boolean_array]\n",
    "print(selected_rows)"
   ]
  },
  {
   "cell_type": "code",
   "execution_count": 37,
   "id": "bd73884e",
   "metadata": {},
   "outputs": [
    {
     "name": "stdout",
     "output_type": "stream",
     "text": [
      "0       Anshu\n",
      "1       Sneha\n",
      "2    Samiksha\n",
      "Name: Name, dtype: object\n"
     ]
    }
   ],
   "source": [
    "# Type: df.loc[:, val]\n",
    "# Notes: Selects single column or subset of columns by label\n",
    "\n",
    "# Create a DataFrame\n",
    "data = {'Name': ['Anshu', 'Sneha', 'Samiksha'],\n",
    "        'Age': [20, 19, 18],\n",
    "        'City': ['Chandigarh', 'Gurgaon', 'Delhi']}\n",
    "df = pd.DataFrame(data)\n",
    "\n",
    "# Select a single column by label\n",
    "name_column = df.loc[:, 'Name']\n",
    "print(name_column)"
   ]
  },
  {
   "cell_type": "code",
   "execution_count": 38,
   "id": "3b1b515f",
   "metadata": {},
   "outputs": [
    {
     "name": "stdout",
     "output_type": "stream",
     "text": [
      "       Name  Age\n",
      "0     Anshu   20\n",
      "1     Sneha   19\n",
      "2  Samiksha   18\n"
     ]
    }
   ],
   "source": [
    "# You can also select multiple columns by providing a list of labels:\n",
    "\n",
    "# Select multiple columns by labels\n",
    "name_age_columns = df.loc[:, ['Name', 'Age']]\n",
    "print(name_age_columns)"
   ]
  },
  {
   "cell_type": "code",
   "execution_count": 39,
   "id": "24cdbecb",
   "metadata": {},
   "outputs": [
    {
     "name": "stdout",
     "output_type": "stream",
     "text": [
      "       Name  Age\n",
      "1     Sneha   19\n",
      "2  Samiksha   18\n"
     ]
    }
   ],
   "source": [
    "# Type: df.loc[val1, val2]\n",
    "# Notes: Select both rows and columns by label\n",
    "\n",
    "# Create a sample DataFrame\n",
    "data = {\n",
    "    'Name': ['Anshu', 'Sneha', 'Samiksha', 'Abhijeet'],\n",
    "    'Age': [20, 19, 18, 18],\n",
    "    'Country': ['Chandigarh', 'Gurgaon', 'Delhi', 'Dehradun']\n",
    "}\n",
    "df = pd.DataFrame(data)\n",
    "\n",
    "# Select specific rows and columns by label\n",
    "selected_data = df.loc[1:2,['Name', 'Age']]\n",
    "\n",
    "print(selected_data)"
   ]
  },
  {
   "cell_type": "code",
   "execution_count": 40,
   "id": "c4adc956",
   "metadata": {},
   "outputs": [
    {
     "name": "stdout",
     "output_type": "stream",
     "text": [
      "Name        Sneha\n",
      "Age            19\n",
      "Country    Canada\n",
      "Name: 1, dtype: object\n"
     ]
    }
   ],
   "source": [
    "# Type: df.iloc[where]\n",
    "# Notes: Selects single row or subset of rows from the DataFrame by integer position \n",
    "\n",
    "# Create a sample DataFrame\n",
    "data = {\n",
    "    'Name': ['Anshu', 'Sneha', 'Samiksha', 'Abhijeet'],\n",
    "    'Age': [20, 19, 18, 18],\n",
    "    'Country': ['USA', 'Canada', 'UK', 'Australia']\n",
    "}\n",
    "df = pd.DataFrame(data)\n",
    "\n",
    "# Select a single row by integer position\n",
    "row1 = df.iloc[1]\n",
    "\n",
    "print(row1)"
   ]
  },
  {
   "cell_type": "code",
   "execution_count": 41,
   "id": "af1a5562",
   "metadata": {},
   "outputs": [
    {
     "name": "stdout",
     "output_type": "stream",
     "text": [
      "       Name  Age Country\n",
      "0     Anshu   20     USA\n",
      "1     Sneha   19  Canada\n",
      "2  Samiksha   18      UK\n"
     ]
    }
   ],
   "source": [
    "# You can also select multiple rows by providing a list of integer positions:\n",
    "\n",
    "# Select a subset of rows by integer positions\n",
    "subset_rows = df.iloc[[0, 1, 2]]\n",
    "\n",
    "print(subset_rows)"
   ]
  },
  {
   "cell_type": "code",
   "execution_count": 42,
   "id": "a9c1fdf9",
   "metadata": {},
   "outputs": [
    {
     "name": "stdout",
     "output_type": "stream",
     "text": [
      "0    20\n",
      "1    19\n",
      "2    18\n",
      "3    18\n",
      "Name: Age, dtype: int64\n"
     ]
    }
   ],
   "source": [
    "# Type: df.iloc[:, where] \n",
    "# Notes: Selects single column or subset of columns by integer position\n",
    "\n",
    "# Create a sample DataFrame\n",
    "data = {\n",
    "    'Name': ['Anshu', 'Sneha', 'Samiksha', 'Abhijeet'],\n",
    "    'Age': [20, 19, 18, 18],\n",
    "    'Country': ['USA', 'Canada', 'UK', 'Australia']\n",
    "}\n",
    "df = pd.DataFrame(data)\n",
    "\n",
    "# Select a single column by integer position\n",
    "column1 = df.iloc[:, 1]\n",
    "\n",
    "print(column1)"
   ]
  },
  {
   "cell_type": "code",
   "execution_count": 43,
   "id": "bca10c42",
   "metadata": {},
   "outputs": [
    {
     "name": "stdout",
     "output_type": "stream",
     "text": [
      "       Name    Country\n",
      "0     Anshu        USA\n",
      "1     Sneha     Canada\n",
      "2  Samiksha         UK\n",
      "3  Abhijeet  Australia\n"
     ]
    }
   ],
   "source": [
    "# You can also select multiple columns by providing a list of integer positions:\n",
    "\n",
    "# Select a subset of columns by integer positions\n",
    "subset_columns = df.iloc[:, [0, 2]]\n",
    "\n",
    "print(subset_columns)"
   ]
  },
  {
   "cell_type": "code",
   "execution_count": 44,
   "id": "ec69f98c",
   "metadata": {},
   "outputs": [
    {
     "name": "stdout",
     "output_type": "stream",
     "text": [
      "       Name  Age\n",
      "1     Sneha   19\n",
      "2  Samiksha   18\n"
     ]
    }
   ],
   "source": [
    "# Type: df.iloc[where_i, where_j] \n",
    "# Notes: Select both rows and columns by integer position\n",
    "\n",
    "# Create a sample DataFrame\n",
    "data = {\n",
    "    'Name': ['Anshu', 'Sneha', 'Samiksha', 'Abhijeet'],\n",
    "    'Age': [20, 19, 18, 18],\n",
    "    'Country': ['USA', 'Canada', 'UK', 'Australia']\n",
    "}\n",
    "df = pd.DataFrame(data)\n",
    "\n",
    "# Select specific rows and columns by integer position\n",
    "selected_data = df.iloc[1:3, 0:2]\n",
    "\n",
    "print(selected_data)"
   ]
  },
  {
   "cell_type": "code",
   "execution_count": 45,
   "id": "a62100e2",
   "metadata": {},
   "outputs": [
    {
     "name": "stdout",
     "output_type": "stream",
     "text": [
      "   Age    Country\n",
      "0   20        USA\n",
      "2   18         UK\n",
      "3   18  Australia\n"
     ]
    }
   ],
   "source": [
    "# You can also use specific integer positions or lists of integer positions to select rows and columns:\n",
    "\n",
    "# Select specific rows and columns by integer positions\n",
    "selected_data = df.iloc[[0, 2, 3], [1, 2]]\n",
    "\n",
    "print(selected_data)"
   ]
  },
  {
   "cell_type": "code",
   "execution_count": 46,
   "id": "1b9136fe",
   "metadata": {},
   "outputs": [
    {
     "name": "stdout",
     "output_type": "stream",
     "text": [
      "Sneha\n"
     ]
    }
   ],
   "source": [
    "# Type: df.at[label_i, label_j] \n",
    "# Notes: Select a single scalar value by row and column label\n",
    "\n",
    "# Create a sample DataFrame\n",
    "data = {\n",
    "    'Name': ['Anshu', 'Sneha', 'Samiksha', 'Abhijeet'],\n",
    "    'Age': [20, 19, 18, 18],\n",
    "    'Country': ['USA', 'Canada', 'UK', 'Australia']\n",
    "}\n",
    "df = pd.DataFrame(data)\n",
    "\n",
    "# Select a single scalar value by row and column label\n",
    "value = df.at[1, 'Name']\n",
    "\n",
    "print(value)"
   ]
  },
  {
   "cell_type": "code",
   "execution_count": 47,
   "id": "21e16cd1",
   "metadata": {},
   "outputs": [
    {
     "name": "stdout",
     "output_type": "stream",
     "text": [
      "Sneha\n"
     ]
    }
   ],
   "source": [
    "# Type: df.iat[i, j] \n",
    "# Notes: Select a single scalar value by row and column position (integers)\n",
    "\n",
    "# Create a sample DataFrame\n",
    "data = {\n",
    "    'Name': ['Anshu', 'Sneha', 'Samiksha', 'Abhijeet'],\n",
    "    'Age': [20, 19, 18, 18],\n",
    "    'Country': ['USA', 'Canada', 'UK', 'Australia']\n",
    "}\n",
    "df = pd.DataFrame(data)\n",
    "\n",
    "# Select a single scalar value by row and column position\n",
    "value = df.iat[1, 0]\n",
    "\n",
    "print(value)"
   ]
  },
  {
   "cell_type": "code",
   "execution_count": 48,
   "id": "cbd01c32",
   "metadata": {},
   "outputs": [
    {
     "name": "stdout",
     "output_type": "stream",
     "text": [
      "  Name  Age Country\n",
      "A  NaN  NaN     NaN\n",
      "B  NaN  NaN     NaN\n",
      "C  NaN  NaN     NaN\n",
      "D  NaN  NaN     NaN\n"
     ]
    }
   ],
   "source": [
    "# Type: reindex method \n",
    "# Notes: Select either rows or columns by labels\n",
    "\n",
    "# Create a sample DataFrame\n",
    "data = {\n",
    "    'Name': ['Anshu', 'Sneha', 'Samiksha', 'Abhijeet'],\n",
    "    'Age': [20, 19, 18, 18],\n",
    "    'Country': ['USA', 'Canada', 'UK', 'Australia']\n",
    "}\n",
    "df = pd.DataFrame(data)\n",
    "\n",
    "# Reindex rows using labels\n",
    "new_rows = df.reindex(['A', 'B', 'C', 'D'])\n",
    "\n",
    "print(new_rows)"
   ]
  },
  {
   "cell_type": "code",
   "execution_count": 49,
   "id": "71951b25",
   "metadata": {},
   "outputs": [
    {
     "name": "stdout",
     "output_type": "stream",
     "text": [
      "       Name    Country  Age\n",
      "0     Anshu        USA   20\n",
      "1     Sneha     Canada   19\n",
      "2  Samiksha         UK   18\n",
      "3  Abhijeet  Australia   18\n"
     ]
    }
   ],
   "source": [
    "# Similarly, you can reindex columns by specifying the columns parameter:\n",
    "\n",
    "# Reindex columns using labels\n",
    "new_columns = df.reindex(columns=['Name', 'Country', 'Age'])\n",
    "\n",
    "print(new_columns)"
   ]
  },
  {
   "cell_type": "code",
   "execution_count": null,
   "id": "9671db4c",
   "metadata": {},
   "outputs": [],
   "source": []
  }
 ],
 "metadata": {
  "kernelspec": {
   "display_name": "Python 3 (ipykernel)",
   "language": "python",
   "name": "python3"
  },
  "language_info": {
   "codemirror_mode": {
    "name": "ipython",
    "version": 3
   },
   "file_extension": ".py",
   "mimetype": "text/x-python",
   "name": "python",
   "nbconvert_exporter": "python",
   "pygments_lexer": "ipython3",
   "version": "3.10.9"
  }
 },
 "nbformat": 4,
 "nbformat_minor": 5
}
