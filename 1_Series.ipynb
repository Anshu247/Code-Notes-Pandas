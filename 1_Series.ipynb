{
 "cells": [
  {
   "cell_type": "markdown",
   "id": "46646b75",
   "metadata": {},
   "source": [
    "# Series Notes"
   ]
  },
  {
   "cell_type": "code",
   "execution_count": 1,
   "id": "95e990c1",
   "metadata": {},
   "outputs": [],
   "source": [
    "import numpy as np\n",
    "import pandas as pd"
   ]
  },
  {
   "cell_type": "code",
   "execution_count": 2,
   "id": "c1fe1e6d",
   "metadata": {},
   "outputs": [],
   "source": [
    "obj1 = pd.Series([2,4,6,8])"
   ]
  },
  {
   "cell_type": "code",
   "execution_count": 3,
   "id": "643ac6ff",
   "metadata": {},
   "outputs": [
    {
     "data": {
      "text/plain": [
       "0    2\n",
       "1    4\n",
       "2    6\n",
       "3    8\n",
       "dtype: int64"
      ]
     },
     "execution_count": 3,
     "metadata": {},
     "output_type": "execute_result"
    }
   ],
   "source": [
    "obj1"
   ]
  },
  {
   "cell_type": "code",
   "execution_count": 4,
   "id": "3da4d0e9",
   "metadata": {},
   "outputs": [],
   "source": [
    "obj2 = pd.Series([-1,-3,-5,-7])"
   ]
  },
  {
   "cell_type": "code",
   "execution_count": 5,
   "id": "2c419564",
   "metadata": {},
   "outputs": [
    {
     "data": {
      "text/plain": [
       "0   -1\n",
       "1   -3\n",
       "2   -5\n",
       "3   -7\n",
       "dtype: int64"
      ]
     },
     "execution_count": 5,
     "metadata": {},
     "output_type": "execute_result"
    }
   ],
   "source": [
    "obj2"
   ]
  },
  {
   "cell_type": "code",
   "execution_count": 6,
   "id": "a402b9c8",
   "metadata": {},
   "outputs": [],
   "source": [
    "obj3 = pd.Series([-1,2,-3,4])"
   ]
  },
  {
   "cell_type": "code",
   "execution_count": 7,
   "id": "6896fafc",
   "metadata": {},
   "outputs": [
    {
     "data": {
      "text/plain": [
       "0   -1\n",
       "1    2\n",
       "2   -3\n",
       "3    4\n",
       "dtype: int64"
      ]
     },
     "execution_count": 7,
     "metadata": {},
     "output_type": "execute_result"
    }
   ],
   "source": [
    "obj3"
   ]
  },
  {
   "cell_type": "code",
   "execution_count": 8,
   "id": "f944abfe",
   "metadata": {},
   "outputs": [],
   "source": [
    "obj4 = pd.Series([5,-6,7,-8])"
   ]
  },
  {
   "cell_type": "code",
   "execution_count": 9,
   "id": "897cea05",
   "metadata": {},
   "outputs": [
    {
     "data": {
      "text/plain": [
       "0    5\n",
       "1   -6\n",
       "2    7\n",
       "3   -8\n",
       "dtype: int64"
      ]
     },
     "execution_count": 9,
     "metadata": {},
     "output_type": "execute_result"
    }
   ],
   "source": [
    "obj4"
   ]
  },
  {
   "cell_type": "code",
   "execution_count": 10,
   "id": "9dd3ed6c",
   "metadata": {},
   "outputs": [],
   "source": [
    "obj5 = pd.Series(['anshu','anurag','abhijeet','george'])"
   ]
  },
  {
   "cell_type": "code",
   "execution_count": 11,
   "id": "346ef3fb",
   "metadata": {},
   "outputs": [
    {
     "data": {
      "text/plain": [
       "0       anshu\n",
       "1      anurag\n",
       "2    abhijeet\n",
       "3      george\n",
       "dtype: object"
      ]
     },
     "execution_count": 11,
     "metadata": {},
     "output_type": "execute_result"
    }
   ],
   "source": [
    "obj5"
   ]
  },
  {
   "cell_type": "code",
   "execution_count": 12,
   "id": "670b74e1",
   "metadata": {},
   "outputs": [],
   "source": [
    "obj6 = pd.Series([7.7, 2.7, 1.3, 1.5])"
   ]
  },
  {
   "cell_type": "code",
   "execution_count": 13,
   "id": "3410e7d1",
   "metadata": {},
   "outputs": [
    {
     "data": {
      "text/plain": [
       "0    7.7\n",
       "1    2.7\n",
       "2    1.3\n",
       "3    1.5\n",
       "dtype: float64"
      ]
     },
     "execution_count": 13,
     "metadata": {},
     "output_type": "execute_result"
    }
   ],
   "source": [
    "obj6"
   ]
  },
  {
   "cell_type": "code",
   "execution_count": 14,
   "id": "aafc8da4",
   "metadata": {},
   "outputs": [
    {
     "data": {
      "text/plain": [
       "array([2, 4, 6, 8], dtype=int64)"
      ]
     },
     "execution_count": 14,
     "metadata": {},
     "output_type": "execute_result"
    }
   ],
   "source": [
    "obj1.values"
   ]
  },
  {
   "cell_type": "code",
   "execution_count": 15,
   "id": "738ae70a",
   "metadata": {},
   "outputs": [
    {
     "data": {
      "text/plain": [
       "RangeIndex(start=0, stop=4, step=1)"
      ]
     },
     "execution_count": 15,
     "metadata": {},
     "output_type": "execute_result"
    }
   ],
   "source": [
    "obj1.index"
   ]
  },
  {
   "cell_type": "code",
   "execution_count": 16,
   "id": "1fc9f4de",
   "metadata": {},
   "outputs": [
    {
     "data": {
      "text/plain": [
       "array(['anshu', 'anurag', 'abhijeet', 'george'], dtype=object)"
      ]
     },
     "execution_count": 16,
     "metadata": {},
     "output_type": "execute_result"
    }
   ],
   "source": [
    "obj5.values"
   ]
  },
  {
   "cell_type": "code",
   "execution_count": 17,
   "id": "ab41290c",
   "metadata": {},
   "outputs": [
    {
     "data": {
      "text/plain": [
       "array([7.7, 2.7, 1.3, 1.5])"
      ]
     },
     "execution_count": 17,
     "metadata": {},
     "output_type": "execute_result"
    }
   ],
   "source": [
    "obj6.values"
   ]
  },
  {
   "cell_type": "code",
   "execution_count": 18,
   "id": "a137570d",
   "metadata": {},
   "outputs": [],
   "source": [
    "obj7 = pd.Series(['shreya','samiksha','sneha','sanya'], index=['A','B','C','D'])"
   ]
  },
  {
   "cell_type": "code",
   "execution_count": 19,
   "id": "f671a087",
   "metadata": {},
   "outputs": [
    {
     "data": {
      "text/plain": [
       "A      shreya\n",
       "B    samiksha\n",
       "C       sneha\n",
       "D       sanya\n",
       "dtype: object"
      ]
     },
     "execution_count": 19,
     "metadata": {},
     "output_type": "execute_result"
    }
   ],
   "source": [
    "obj7"
   ]
  },
  {
   "cell_type": "code",
   "execution_count": 20,
   "id": "5f50b9a4",
   "metadata": {},
   "outputs": [],
   "source": [
    "obj8 = pd.Series([1,2,3,4,5,6,7,8,9], index=['i','ii','iii','iv','v','vi','vii','viii','ix'])"
   ]
  },
  {
   "cell_type": "code",
   "execution_count": 21,
   "id": "fb91ffab",
   "metadata": {},
   "outputs": [
    {
     "data": {
      "text/plain": [
       "i       1\n",
       "ii      2\n",
       "iii     3\n",
       "iv      4\n",
       "v       5\n",
       "vi      6\n",
       "vii     7\n",
       "viii    8\n",
       "ix      9\n",
       "dtype: int64"
      ]
     },
     "execution_count": 21,
     "metadata": {},
     "output_type": "execute_result"
    }
   ],
   "source": [
    "obj8"
   ]
  },
  {
   "cell_type": "code",
   "execution_count": 22,
   "id": "92050bf2",
   "metadata": {},
   "outputs": [
    {
     "data": {
      "text/plain": [
       "'samiksha'"
      ]
     },
     "execution_count": 22,
     "metadata": {},
     "output_type": "execute_result"
    }
   ],
   "source": [
    "obj7['B']"
   ]
  },
  {
   "cell_type": "code",
   "execution_count": 23,
   "id": "78ffad62",
   "metadata": {},
   "outputs": [
    {
     "data": {
      "text/plain": [
       "7"
      ]
     },
     "execution_count": 23,
     "metadata": {},
     "output_type": "execute_result"
    }
   ],
   "source": [
    "obj8['vii']"
   ]
  },
  {
   "cell_type": "code",
   "execution_count": 24,
   "id": "7b22db7f",
   "metadata": {},
   "outputs": [],
   "source": [
    "obj7['D'] = 'sia'"
   ]
  },
  {
   "cell_type": "code",
   "execution_count": 25,
   "id": "17a1cab8",
   "metadata": {},
   "outputs": [
    {
     "data": {
      "text/plain": [
       "A      shreya\n",
       "B    samiksha\n",
       "C       sneha\n",
       "D         sia\n",
       "dtype: object"
      ]
     },
     "execution_count": 25,
     "metadata": {},
     "output_type": "execute_result"
    }
   ],
   "source": [
    "obj7"
   ]
  },
  {
   "cell_type": "code",
   "execution_count": 26,
   "id": "129d52ce",
   "metadata": {},
   "outputs": [],
   "source": [
    "obj8['ix'] = 10"
   ]
  },
  {
   "cell_type": "code",
   "execution_count": 27,
   "id": "669470a1",
   "metadata": {},
   "outputs": [
    {
     "data": {
      "text/plain": [
       "i        1\n",
       "ii       2\n",
       "iii      3\n",
       "iv       4\n",
       "v        5\n",
       "vi       6\n",
       "vii      7\n",
       "viii     8\n",
       "ix      10\n",
       "dtype: int64"
      ]
     },
     "execution_count": 27,
     "metadata": {},
     "output_type": "execute_result"
    }
   ],
   "source": [
    "obj8"
   ]
  },
  {
   "cell_type": "code",
   "execution_count": 28,
   "id": "dba35330",
   "metadata": {},
   "outputs": [],
   "source": [
    "obj9 = pd.Series([-5,8,-2,6,-1,0,7])"
   ]
  },
  {
   "cell_type": "code",
   "execution_count": 29,
   "id": "8d58f706",
   "metadata": {},
   "outputs": [
    {
     "data": {
      "text/plain": [
       "0   -5\n",
       "1    8\n",
       "2   -2\n",
       "3    6\n",
       "4   -1\n",
       "5    0\n",
       "6    7\n",
       "dtype: int64"
      ]
     },
     "execution_count": 29,
     "metadata": {},
     "output_type": "execute_result"
    }
   ],
   "source": [
    "obj9"
   ]
  },
  {
   "cell_type": "code",
   "execution_count": 30,
   "id": "18deb529",
   "metadata": {},
   "outputs": [
    {
     "data": {
      "text/plain": [
       "1    8\n",
       "3    6\n",
       "6    7\n",
       "dtype: int64"
      ]
     },
     "execution_count": 30,
     "metadata": {},
     "output_type": "execute_result"
    }
   ],
   "source": [
    "obj9[obj9 > 0]"
   ]
  },
  {
   "cell_type": "code",
   "execution_count": 31,
   "id": "fb52b3d5",
   "metadata": {},
   "outputs": [
    {
     "data": {
      "text/plain": [
       "0   -10\n",
       "1    16\n",
       "2    -4\n",
       "3    12\n",
       "4    -2\n",
       "5     0\n",
       "6    14\n",
       "dtype: int64"
      ]
     },
     "execution_count": 31,
     "metadata": {},
     "output_type": "execute_result"
    }
   ],
   "source": [
    "obj9 * 2"
   ]
  },
  {
   "cell_type": "code",
   "execution_count": 32,
   "id": "63732dad",
   "metadata": {},
   "outputs": [
    {
     "data": {
      "text/plain": [
       "0       0.006738\n",
       "1    2980.957987\n",
       "2       0.135335\n",
       "3     403.428793\n",
       "4       0.367879\n",
       "5       1.000000\n",
       "6    1096.633158\n",
       "dtype: float64"
      ]
     },
     "execution_count": 32,
     "metadata": {},
     "output_type": "execute_result"
    }
   ],
   "source": [
    "np.exp(obj9)"
   ]
  },
  {
   "cell_type": "code",
   "execution_count": 33,
   "id": "fb11e77c",
   "metadata": {},
   "outputs": [
    {
     "data": {
      "text/plain": [
       "0       7.389056\n",
       "1      54.598150\n",
       "2     403.428793\n",
       "3    2980.957987\n",
       "dtype: float64"
      ]
     },
     "execution_count": 33,
     "metadata": {},
     "output_type": "execute_result"
    }
   ],
   "source": [
    "np.exp(obj1)"
   ]
  },
  {
   "cell_type": "code",
   "execution_count": 34,
   "id": "0c7bcb0f",
   "metadata": {},
   "outputs": [
    {
     "data": {
      "text/plain": [
       "True"
      ]
     },
     "execution_count": 34,
     "metadata": {},
     "output_type": "execute_result"
    }
   ],
   "source": [
    "0 in obj5"
   ]
  },
  {
   "cell_type": "code",
   "execution_count": 35,
   "id": "0d8fab38",
   "metadata": {},
   "outputs": [
    {
     "data": {
      "text/plain": [
       "True"
      ]
     },
     "execution_count": 35,
     "metadata": {},
     "output_type": "execute_result"
    }
   ],
   "source": [
    "'B' in obj7"
   ]
  },
  {
   "cell_type": "markdown",
   "id": "d4b879f4",
   "metadata": {},
   "source": [
    "# Dictionary\n"
   ]
  },
  {
   "cell_type": "code",
   "execution_count": 36,
   "id": "fefe2cef",
   "metadata": {},
   "outputs": [],
   "source": [
    "# making dictionary\n",
    "\n",
    "cars1 ={100: 'Lamborghini', 200: \"Bugatti\", 300: \"Rolls Royce\", 400: \"Supra\", 500: \"GTR\"}"
   ]
  },
  {
   "cell_type": "code",
   "execution_count": 37,
   "id": "429df7ef",
   "metadata": {},
   "outputs": [],
   "source": [
    "# making series of dictionary\n",
    "\n",
    "series = pd.Series(cars1)"
   ]
  },
  {
   "cell_type": "code",
   "execution_count": 38,
   "id": "3e18daec",
   "metadata": {},
   "outputs": [
    {
     "data": {
      "text/plain": [
       "100    Lamborghini\n",
       "200        Bugatti\n",
       "300    Rolls Royce\n",
       "400          Supra\n",
       "500            GTR\n",
       "dtype: object"
      ]
     },
     "execution_count": 38,
     "metadata": {},
     "output_type": "execute_result"
    }
   ],
   "source": [
    "series"
   ]
  },
  {
   "cell_type": "code",
   "execution_count": 39,
   "id": "a50fb4a4",
   "metadata": {},
   "outputs": [],
   "source": [
    "# when you are passing a dict, the result in the resulting series will have the dict's keys in sorted order\n",
    "# you can override this by passing the dict keys in the order you want them to appear in the resulting series\n",
    "\n",
    "cars2 = [50, 100, 200, 300, 400]"
   ]
  },
  {
   "cell_type": "code",
   "execution_count": 40,
   "id": "4f72fc60",
   "metadata": {},
   "outputs": [],
   "source": [
    "obj10 = pd.Series(cars1, index=cars2)"
   ]
  },
  {
   "cell_type": "code",
   "execution_count": 41,
   "id": "4ebb9297",
   "metadata": {},
   "outputs": [
    {
     "data": {
      "text/plain": [
       "50             NaN\n",
       "100    Lamborghini\n",
       "200        Bugatti\n",
       "300    Rolls Royce\n",
       "400          Supra\n",
       "dtype: object"
      ]
     },
     "execution_count": 41,
     "metadata": {},
     "output_type": "execute_result"
    }
   ],
   "source": [
    "obj10"
   ]
  },
  {
   "cell_type": "code",
   "execution_count": 42,
   "id": "d9e2e07e",
   "metadata": {},
   "outputs": [],
   "source": [
    "# creating a dictionary with keys states and values population\n",
    "\n",
    "pop = {'Himachal Pradesh': 10000, 'Uttarakhand': 20000, 'Haryana': 5000, 'Uttar Pradesh': 50000, 'Maharashtra': 40000}"
   ]
  },
  {
   "cell_type": "code",
   "execution_count": 43,
   "id": "9d4a48a3",
   "metadata": {},
   "outputs": [],
   "source": [
    "states = ['Himachal Pradesh', 'Uttarakhand', 'Haryana', 'Uttar Pradesh', 'Maharashtra', 'Madhya Pradesh']"
   ]
  },
  {
   "cell_type": "code",
   "execution_count": 44,
   "id": "366d81ec",
   "metadata": {},
   "outputs": [],
   "source": [
    "pop_data = pd.Series(pop, index=states)"
   ]
  },
  {
   "cell_type": "code",
   "execution_count": 45,
   "id": "ed2316df",
   "metadata": {},
   "outputs": [
    {
     "data": {
      "text/plain": [
       "Himachal Pradesh    10000.0\n",
       "Uttarakhand         20000.0\n",
       "Haryana              5000.0\n",
       "Uttar Pradesh       50000.0\n",
       "Maharashtra         40000.0\n",
       "Madhya Pradesh          NaN\n",
       "dtype: float64"
      ]
     },
     "execution_count": 45,
     "metadata": {},
     "output_type": "execute_result"
    }
   ],
   "source": [
    "pop_data"
   ]
  },
  {
   "cell_type": "code",
   "execution_count": 46,
   "id": "b532689e",
   "metadata": {},
   "outputs": [
    {
     "data": {
      "text/plain": [
       "Himachal Pradesh    False\n",
       "Uttarakhand         False\n",
       "Haryana             False\n",
       "Uttar Pradesh       False\n",
       "Maharashtra         False\n",
       "Madhya Pradesh       True\n",
       "dtype: bool"
      ]
     },
     "execution_count": 46,
     "metadata": {},
     "output_type": "execute_result"
    }
   ],
   "source": [
    "# isnull function is used to detect missing data\n",
    "# if data is missing, it will return True otherwise False\n",
    "\n",
    "pd.isnull(pop_data)"
   ]
  },
  {
   "cell_type": "code",
   "execution_count": 47,
   "id": "750688f1",
   "metadata": {},
   "outputs": [
    {
     "data": {
      "text/plain": [
       "Himachal Pradesh     True\n",
       "Uttarakhand          True\n",
       "Haryana              True\n",
       "Uttar Pradesh        True\n",
       "Maharashtra          True\n",
       "Madhya Pradesh      False\n",
       "dtype: bool"
      ]
     },
     "execution_count": 47,
     "metadata": {},
     "output_type": "execute_result"
    }
   ],
   "source": [
    "# notnull function is also used to detect missing data\n",
    "# if data is missing, it will return False otherwise True\n",
    "\n",
    "pd.isnull(pop_data)\n",
    "\n",
    "pd.notnull(pop_data)"
   ]
  },
  {
   "cell_type": "code",
   "execution_count": 48,
   "id": "0c95e3a8",
   "metadata": {},
   "outputs": [
    {
     "data": {
      "text/plain": [
       "Himachal Pradesh    False\n",
       "Uttarakhand         False\n",
       "Haryana             False\n",
       "Uttar Pradesh       False\n",
       "Maharashtra         False\n",
       "Madhya Pradesh       True\n",
       "dtype: bool"
      ]
     },
     "execution_count": 48,
     "metadata": {},
     "output_type": "execute_result"
    }
   ],
   "source": [
    "# series also has these as instance methods\n",
    "\n",
    "pop_data.isnull()"
   ]
  },
  {
   "cell_type": "code",
   "execution_count": 49,
   "id": "2d9f36a3",
   "metadata": {},
   "outputs": [
    {
     "data": {
      "text/plain": [
       "Himachal Pradesh     True\n",
       "Uttarakhand          True\n",
       "Haryana              True\n",
       "Uttar Pradesh        True\n",
       "Maharashtra          True\n",
       "Madhya Pradesh      False\n",
       "dtype: bool"
      ]
     },
     "execution_count": 49,
     "metadata": {},
     "output_type": "execute_result"
    }
   ],
   "source": [
    "pop_data.notnull()"
   ]
  },
  {
   "cell_type": "code",
   "execution_count": 50,
   "id": "c5e4cf17",
   "metadata": {},
   "outputs": [
    {
     "data": {
      "text/plain": [
       "100    Lamborghini\n",
       "200        Bugatti\n",
       "300    Rolls Royce\n",
       "400          Supra\n",
       "500            GTR\n",
       "dtype: object"
      ]
     },
     "execution_count": 50,
     "metadata": {},
     "output_type": "execute_result"
    }
   ],
   "source": [
    "# A useful series feature for many application is that it automatically aligns by index label in arithmetic operations\n",
    "\n",
    "series"
   ]
  },
  {
   "cell_type": "code",
   "execution_count": 51,
   "id": "adb94d4b",
   "metadata": {},
   "outputs": [
    {
     "data": {
      "text/plain": [
       "Himachal Pradesh    10000.0\n",
       "Uttarakhand         20000.0\n",
       "Haryana              5000.0\n",
       "Uttar Pradesh       50000.0\n",
       "Maharashtra         40000.0\n",
       "Madhya Pradesh          NaN\n",
       "dtype: float64"
      ]
     },
     "execution_count": 51,
     "metadata": {},
     "output_type": "execute_result"
    }
   ],
   "source": [
    "pop_data"
   ]
  },
  {
   "cell_type": "code",
   "execution_count": 52,
   "id": "4b78cd1f",
   "metadata": {},
   "outputs": [],
   "source": [
    "# Both the series object itself and its index have name attribute, which integrates with other key areas of pandas functionality\n",
    "\n",
    "pop_data.name = 'population'"
   ]
  },
  {
   "cell_type": "code",
   "execution_count": 53,
   "id": "dea2e1c5",
   "metadata": {},
   "outputs": [],
   "source": [
    "pop_data.index.name = 'state'"
   ]
  },
  {
   "cell_type": "code",
   "execution_count": 54,
   "id": "130395c0",
   "metadata": {},
   "outputs": [
    {
     "data": {
      "text/plain": [
       "state\n",
       "Himachal Pradesh    10000.0\n",
       "Uttarakhand         20000.0\n",
       "Haryana              5000.0\n",
       "Uttar Pradesh       50000.0\n",
       "Maharashtra         40000.0\n",
       "Madhya Pradesh          NaN\n",
       "Name: population, dtype: float64"
      ]
     },
     "execution_count": 54,
     "metadata": {},
     "output_type": "execute_result"
    }
   ],
   "source": [
    "pop_data"
   ]
  },
  {
   "cell_type": "code",
   "execution_count": 55,
   "id": "fd5be550",
   "metadata": {},
   "outputs": [
    {
     "data": {
      "text/plain": [
       "0    2\n",
       "1    4\n",
       "2    6\n",
       "3    8\n",
       "dtype: int64"
      ]
     },
     "execution_count": 55,
     "metadata": {},
     "output_type": "execute_result"
    }
   ],
   "source": [
    "# A series index can be altered in place by assignment \n",
    "\n",
    "obj1"
   ]
  },
  {
   "cell_type": "code",
   "execution_count": 56,
   "id": "a0fa2014",
   "metadata": {},
   "outputs": [],
   "source": [
    "obj1.index = ['Anshu', 'Professor', 'Samiksha', 'Sneha']"
   ]
  },
  {
   "cell_type": "code",
   "execution_count": 57,
   "id": "05f4a92e",
   "metadata": {},
   "outputs": [
    {
     "data": {
      "text/plain": [
       "Anshu        2\n",
       "Professor    4\n",
       "Samiksha     6\n",
       "Sneha        8\n",
       "dtype: int64"
      ]
     },
     "execution_count": 57,
     "metadata": {},
     "output_type": "execute_result"
    }
   ],
   "source": [
    "obj1"
   ]
  },
  {
   "cell_type": "code",
   "execution_count": null,
   "id": "def3364d",
   "metadata": {},
   "outputs": [],
   "source": []
  }
 ],
 "metadata": {
  "kernelspec": {
   "display_name": "Python 3 (ipykernel)",
   "language": "python",
   "name": "python3"
  },
  "language_info": {
   "codemirror_mode": {
    "name": "ipython",
    "version": 3
   },
   "file_extension": ".py",
   "mimetype": "text/x-python",
   "name": "python",
   "nbconvert_exporter": "python",
   "pygments_lexer": "ipython3",
   "version": "3.10.9"
  }
 },
 "nbformat": 4,
 "nbformat_minor": 5
}
